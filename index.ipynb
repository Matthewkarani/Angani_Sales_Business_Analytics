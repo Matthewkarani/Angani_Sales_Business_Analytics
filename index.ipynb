{
 "cells": [
  {
   "cell_type": "markdown",
   "metadata": {},
   "source": [
    "# Angani Sales Data Analysis"
   ]
  },
  {
   "cell_type": "markdown",
   "metadata": {},
   "source": [
    "# Business Understanding\n",
    "\n",
    "Description Here"
   ]
  },
  {
   "cell_type": "markdown",
   "metadata": {},
   "source": [
    "# Business Problem \n",
    "\n",
    "Description Here"
   ]
  },
  {
   "cell_type": "markdown",
   "metadata": {},
   "source": [
    "# Data Understanding \n",
    "\n",
    "Description Here"
   ]
  },
  {
   "cell_type": "code",
   "execution_count": 6,
   "metadata": {},
   "outputs": [
    {
     "name": "stdout",
     "output_type": "stream",
     "text": [
      "['Main Data', 'Data Dictionary', 'Product Master']\n"
     ]
    }
   ],
   "source": [
    "# Necessary Imports\n",
    "import pandas as pd\n",
    "\n",
    "\n",
    "# load the excel file\n",
    "excel_file = pd.ExcelFile('SalesData.xlsx')\n",
    "\n",
    "# Display the sheet names\n",
    "print(excel_file.sheet_names)"
   ]
  },
  {
   "cell_type": "code",
   "execution_count": 11,
   "metadata": {},
   "outputs": [],
   "source": [
    "# Convert the different sheets into dataframes\n",
    "main_df = excel_file.parse('Main Data')\n",
    "product_df = excel_file.parse('Product Master')"
   ]
  },
  {
   "cell_type": "code",
   "execution_count": 8,
   "metadata": {},
   "outputs": [
    {
     "data": {
      "text/html": [
       "<div>\n",
       "<style scoped>\n",
       "    .dataframe tbody tr th:only-of-type {\n",
       "        vertical-align: middle;\n",
       "    }\n",
       "\n",
       "    .dataframe tbody tr th {\n",
       "        vertical-align: top;\n",
       "    }\n",
       "\n",
       "    .dataframe thead th {\n",
       "        text-align: right;\n",
       "    }\n",
       "</style>\n",
       "<table border=\"1\" class=\"dataframe\">\n",
       "  <thead>\n",
       "    <tr style=\"text-align: right;\">\n",
       "      <th></th>\n",
       "      <th>OrderNumber</th>\n",
       "      <th>QuantityOrdered</th>\n",
       "      <th>PriceEach</th>\n",
       "      <th>OrderLineNumber</th>\n",
       "      <th>Sales</th>\n",
       "      <th>Status</th>\n",
       "      <th>QTR_ID</th>\n",
       "      <th>DAY_ID</th>\n",
       "      <th>MONTH_ID</th>\n",
       "      <th>YEAR_ID</th>\n",
       "      <th>...</th>\n",
       "      <th>Phone</th>\n",
       "      <th>AddressLine1</th>\n",
       "      <th>City</th>\n",
       "      <th>PostalCode</th>\n",
       "      <th>Country</th>\n",
       "      <th>Territory</th>\n",
       "      <th>ContactLastName</th>\n",
       "      <th>ContactFirstName</th>\n",
       "      <th>Branch</th>\n",
       "      <th>CostPrice</th>\n",
       "    </tr>\n",
       "  </thead>\n",
       "  <tbody>\n",
       "    <tr>\n",
       "      <th>0</th>\n",
       "      <td>10100</td>\n",
       "      <td>49</td>\n",
       "      <td>34.47</td>\n",
       "      <td>1</td>\n",
       "      <td>1689.03</td>\n",
       "      <td>Shipped</td>\n",
       "      <td>1</td>\n",
       "      <td>6</td>\n",
       "      <td>1</td>\n",
       "      <td>2022</td>\n",
       "      <td>...</td>\n",
       "      <td>6035558647</td>\n",
       "      <td>2304 Long Airport Avenue</td>\n",
       "      <td>Nashua</td>\n",
       "      <td>62005</td>\n",
       "      <td>USA</td>\n",
       "      <td>NaN</td>\n",
       "      <td>Young</td>\n",
       "      <td>Valarie</td>\n",
       "      <td>Skates Road</td>\n",
       "      <td>22.4055</td>\n",
       "    </tr>\n",
       "    <tr>\n",
       "      <th>1</th>\n",
       "      <td>10100</td>\n",
       "      <td>50</td>\n",
       "      <td>67.80</td>\n",
       "      <td>2</td>\n",
       "      <td>3390.00</td>\n",
       "      <td>Shipped</td>\n",
       "      <td>1</td>\n",
       "      <td>6</td>\n",
       "      <td>1</td>\n",
       "      <td>2022</td>\n",
       "      <td>...</td>\n",
       "      <td>6035558647</td>\n",
       "      <td>2304 Long Airport Avenue</td>\n",
       "      <td>Nashua</td>\n",
       "      <td>62005</td>\n",
       "      <td>USA</td>\n",
       "      <td>NaN</td>\n",
       "      <td>Young</td>\n",
       "      <td>Valarie</td>\n",
       "      <td>Bergenville</td>\n",
       "      <td>44.0700</td>\n",
       "    </tr>\n",
       "    <tr>\n",
       "      <th>2</th>\n",
       "      <td>10100</td>\n",
       "      <td>30</td>\n",
       "      <td>100.00</td>\n",
       "      <td>3</td>\n",
       "      <td>5151.00</td>\n",
       "      <td>Shipped</td>\n",
       "      <td>1</td>\n",
       "      <td>6</td>\n",
       "      <td>1</td>\n",
       "      <td>2022</td>\n",
       "      <td>...</td>\n",
       "      <td>6035558647</td>\n",
       "      <td>2304 Long Airport Avenue</td>\n",
       "      <td>Nashua</td>\n",
       "      <td>62005</td>\n",
       "      <td>USA</td>\n",
       "      <td>NaN</td>\n",
       "      <td>Young</td>\n",
       "      <td>Valarie</td>\n",
       "      <td>Bergenville</td>\n",
       "      <td>65.0000</td>\n",
       "    </tr>\n",
       "    <tr>\n",
       "      <th>3</th>\n",
       "      <td>10100</td>\n",
       "      <td>22</td>\n",
       "      <td>86.51</td>\n",
       "      <td>4</td>\n",
       "      <td>1903.22</td>\n",
       "      <td>Shipped</td>\n",
       "      <td>1</td>\n",
       "      <td>6</td>\n",
       "      <td>1</td>\n",
       "      <td>2022</td>\n",
       "      <td>...</td>\n",
       "      <td>6035558647</td>\n",
       "      <td>2304 Long Airport Avenue</td>\n",
       "      <td>Nashua</td>\n",
       "      <td>62005</td>\n",
       "      <td>USA</td>\n",
       "      <td>NaN</td>\n",
       "      <td>Young</td>\n",
       "      <td>Valarie</td>\n",
       "      <td>Skates Road</td>\n",
       "      <td>56.2315</td>\n",
       "    </tr>\n",
       "    <tr>\n",
       "      <th>4</th>\n",
       "      <td>10101</td>\n",
       "      <td>26</td>\n",
       "      <td>100.00</td>\n",
       "      <td>1</td>\n",
       "      <td>3773.38</td>\n",
       "      <td>Shipped</td>\n",
       "      <td>1</td>\n",
       "      <td>9</td>\n",
       "      <td>1</td>\n",
       "      <td>2022</td>\n",
       "      <td>...</td>\n",
       "      <td>+49 69 66 90 2555</td>\n",
       "      <td>Lyonerstr. 34</td>\n",
       "      <td>Frankfurt</td>\n",
       "      <td>60528</td>\n",
       "      <td>Germany</td>\n",
       "      <td>EMEA</td>\n",
       "      <td>Keitel</td>\n",
       "      <td>Roland</td>\n",
       "      <td>Bergenville</td>\n",
       "      <td>65.0000</td>\n",
       "    </tr>\n",
       "  </tbody>\n",
       "</table>\n",
       "<p>5 rows × 22 columns</p>\n",
       "</div>"
      ],
      "text/plain": [
       "   OrderNumber  QuantityOrdered  PriceEach  OrderLineNumber    Sales   Status  \\\n",
       "0        10100               49      34.47                1  1689.03  Shipped   \n",
       "1        10100               50      67.80                2  3390.00  Shipped   \n",
       "2        10100               30     100.00                3  5151.00  Shipped   \n",
       "3        10100               22      86.51                4  1903.22  Shipped   \n",
       "4        10101               26     100.00                1  3773.38  Shipped   \n",
       "\n",
       "   QTR_ID  DAY_ID  MONTH_ID  YEAR_ID  ...              Phone  \\\n",
       "0       1       6         1     2022  ...         6035558647   \n",
       "1       1       6         1     2022  ...         6035558647   \n",
       "2       1       6         1     2022  ...         6035558647   \n",
       "3       1       6         1     2022  ...         6035558647   \n",
       "4       1       9         1     2022  ...  +49 69 66 90 2555   \n",
       "\n",
       "               AddressLine1       City PostalCode  Country Territory  \\\n",
       "0  2304 Long Airport Avenue     Nashua      62005      USA       NaN   \n",
       "1  2304 Long Airport Avenue     Nashua      62005      USA       NaN   \n",
       "2  2304 Long Airport Avenue     Nashua      62005      USA       NaN   \n",
       "3  2304 Long Airport Avenue     Nashua      62005      USA       NaN   \n",
       "4             Lyonerstr. 34  Frankfurt      60528  Germany      EMEA   \n",
       "\n",
       "  ContactLastName ContactFirstName       Branch CostPrice  \n",
       "0           Young          Valarie  Skates Road   22.4055  \n",
       "1           Young          Valarie  Bergenville   44.0700  \n",
       "2           Young          Valarie  Bergenville   65.0000  \n",
       "3           Young          Valarie  Skates Road   56.2315  \n",
       "4          Keitel           Roland  Bergenville   65.0000  \n",
       "\n",
       "[5 rows x 22 columns]"
      ]
     },
     "execution_count": 8,
     "metadata": {},
     "output_type": "execute_result"
    }
   ],
   "source": [
    "# main dataframe overview\n",
    "main_df.head()"
   ]
  },
  {
   "cell_type": "code",
   "execution_count": 10,
   "metadata": {},
   "outputs": [
    {
     "data": {
      "text/html": [
       "<div>\n",
       "<style scoped>\n",
       "    .dataframe tbody tr th:only-of-type {\n",
       "        vertical-align: middle;\n",
       "    }\n",
       "\n",
       "    .dataframe tbody tr th {\n",
       "        vertical-align: top;\n",
       "    }\n",
       "\n",
       "    .dataframe thead th {\n",
       "        text-align: right;\n",
       "    }\n",
       "</style>\n",
       "<table border=\"1\" class=\"dataframe\">\n",
       "  <thead>\n",
       "    <tr style=\"text-align: right;\">\n",
       "      <th></th>\n",
       "      <th>ProductLine</th>\n",
       "      <th>ProductCode</th>\n",
       "      <th>MSRP</th>\n",
       "    </tr>\n",
       "  </thead>\n",
       "  <tbody>\n",
       "    <tr>\n",
       "      <th>0</th>\n",
       "      <td>Classic Cars</td>\n",
       "      <td>S10_1949</td>\n",
       "      <td>214</td>\n",
       "    </tr>\n",
       "    <tr>\n",
       "      <th>1</th>\n",
       "      <td>Classic Cars</td>\n",
       "      <td>S10_4757</td>\n",
       "      <td>136</td>\n",
       "    </tr>\n",
       "    <tr>\n",
       "      <th>2</th>\n",
       "      <td>Classic Cars</td>\n",
       "      <td>S10_4962</td>\n",
       "      <td>147</td>\n",
       "    </tr>\n",
       "    <tr>\n",
       "      <th>3</th>\n",
       "      <td>Classic Cars</td>\n",
       "      <td>S12_1099</td>\n",
       "      <td>194</td>\n",
       "    </tr>\n",
       "    <tr>\n",
       "      <th>4</th>\n",
       "      <td>Classic Cars</td>\n",
       "      <td>S12_1108</td>\n",
       "      <td>207</td>\n",
       "    </tr>\n",
       "    <tr>\n",
       "      <th>...</th>\n",
       "      <td>...</td>\n",
       "      <td>...</td>\n",
       "      <td>...</td>\n",
       "    </tr>\n",
       "    <tr>\n",
       "      <th>104</th>\n",
       "      <td>Vintage Cars</td>\n",
       "      <td>S24_3816</td>\n",
       "      <td>83</td>\n",
       "    </tr>\n",
       "    <tr>\n",
       "      <th>105</th>\n",
       "      <td>Vintage Cars</td>\n",
       "      <td>S24_3969</td>\n",
       "      <td>41</td>\n",
       "    </tr>\n",
       "    <tr>\n",
       "      <th>106</th>\n",
       "      <td>Vintage Cars</td>\n",
       "      <td>S24_4258</td>\n",
       "      <td>97</td>\n",
       "    </tr>\n",
       "    <tr>\n",
       "      <th>107</th>\n",
       "      <td>Vintage Cars</td>\n",
       "      <td>S32_4289</td>\n",
       "      <td>68</td>\n",
       "    </tr>\n",
       "    <tr>\n",
       "      <th>108</th>\n",
       "      <td>Vintage Cars</td>\n",
       "      <td>S50_1341</td>\n",
       "      <td>43</td>\n",
       "    </tr>\n",
       "  </tbody>\n",
       "</table>\n",
       "<p>109 rows × 3 columns</p>\n",
       "</div>"
      ],
      "text/plain": [
       "      ProductLine ProductCode  MSRP\n",
       "0    Classic Cars    S10_1949   214\n",
       "1    Classic Cars    S10_4757   136\n",
       "2    Classic Cars    S10_4962   147\n",
       "3    Classic Cars    S12_1099   194\n",
       "4    Classic Cars    S12_1108   207\n",
       "..            ...         ...   ...\n",
       "104  Vintage Cars    S24_3816    83\n",
       "105  Vintage Cars    S24_3969    41\n",
       "106  Vintage Cars    S24_4258    97\n",
       "107  Vintage Cars    S32_4289    68\n",
       "108  Vintage Cars    S50_1341    43\n",
       "\n",
       "[109 rows x 3 columns]"
      ]
     },
     "execution_count": 10,
     "metadata": {},
     "output_type": "execute_result"
    }
   ],
   "source": [
    "# product dataframe overview\n",
    "product_df"
   ]
  },
  {
   "cell_type": "code",
   "execution_count": 28,
   "metadata": {},
   "outputs": [
    {
     "name": "stdout",
     "output_type": "stream",
     "text": [
      "Main Table\n"
     ]
    },
    {
     "data": {
      "text/html": [
       "<div>\n",
       "<style scoped>\n",
       "    .dataframe tbody tr th:only-of-type {\n",
       "        vertical-align: middle;\n",
       "    }\n",
       "\n",
       "    .dataframe tbody tr th {\n",
       "        vertical-align: top;\n",
       "    }\n",
       "\n",
       "    .dataframe thead th {\n",
       "        text-align: right;\n",
       "    }\n",
       "</style>\n",
       "<table border=\"1\" class=\"dataframe\">\n",
       "  <thead>\n",
       "    <tr style=\"text-align: right;\">\n",
       "      <th></th>\n",
       "      <th>OrderNumber</th>\n",
       "      <th>QuantityOrdered</th>\n",
       "      <th>PriceEach</th>\n",
       "      <th>OrderLineNumber</th>\n",
       "      <th>Sales</th>\n",
       "      <th>QTR_ID</th>\n",
       "      <th>DAY_ID</th>\n",
       "      <th>MONTH_ID</th>\n",
       "      <th>YEAR_ID</th>\n",
       "      <th>CostPrice</th>\n",
       "    </tr>\n",
       "  </thead>\n",
       "  <tbody>\n",
       "    <tr>\n",
       "      <th>count</th>\n",
       "      <td>2823.000000</td>\n",
       "      <td>2823.000000</td>\n",
       "      <td>2823.000000</td>\n",
       "      <td>2823.000000</td>\n",
       "      <td>2823.000000</td>\n",
       "      <td>2823.000000</td>\n",
       "      <td>2823.000000</td>\n",
       "      <td>2823.000000</td>\n",
       "      <td>2823.00000</td>\n",
       "      <td>2823.000000</td>\n",
       "    </tr>\n",
       "    <tr>\n",
       "      <th>mean</th>\n",
       "      <td>10258.725115</td>\n",
       "      <td>35.092809</td>\n",
       "      <td>83.658544</td>\n",
       "      <td>6.466171</td>\n",
       "      <td>3553.889072</td>\n",
       "      <td>2.717676</td>\n",
       "      <td>14.291534</td>\n",
       "      <td>7.092455</td>\n",
       "      <td>2022.81509</td>\n",
       "      <td>54.378054</td>\n",
       "    </tr>\n",
       "    <tr>\n",
       "      <th>std</th>\n",
       "      <td>92.085478</td>\n",
       "      <td>9.741443</td>\n",
       "      <td>20.174277</td>\n",
       "      <td>4.225841</td>\n",
       "      <td>1841.865106</td>\n",
       "      <td>1.203878</td>\n",
       "      <td>8.777409</td>\n",
       "      <td>3.656633</td>\n",
       "      <td>0.69967</td>\n",
       "      <td>13.113280</td>\n",
       "    </tr>\n",
       "    <tr>\n",
       "      <th>min</th>\n",
       "      <td>10100.000000</td>\n",
       "      <td>6.000000</td>\n",
       "      <td>26.880000</td>\n",
       "      <td>1.000000</td>\n",
       "      <td>482.130000</td>\n",
       "      <td>1.000000</td>\n",
       "      <td>1.000000</td>\n",
       "      <td>1.000000</td>\n",
       "      <td>2022.00000</td>\n",
       "      <td>17.472000</td>\n",
       "    </tr>\n",
       "    <tr>\n",
       "      <th>25%</th>\n",
       "      <td>10180.000000</td>\n",
       "      <td>27.000000</td>\n",
       "      <td>68.860000</td>\n",
       "      <td>3.000000</td>\n",
       "      <td>2203.430000</td>\n",
       "      <td>2.000000</td>\n",
       "      <td>6.000000</td>\n",
       "      <td>4.000000</td>\n",
       "      <td>2022.00000</td>\n",
       "      <td>44.759000</td>\n",
       "    </tr>\n",
       "    <tr>\n",
       "      <th>50%</th>\n",
       "      <td>10262.000000</td>\n",
       "      <td>35.000000</td>\n",
       "      <td>95.700000</td>\n",
       "      <td>6.000000</td>\n",
       "      <td>3184.800000</td>\n",
       "      <td>3.000000</td>\n",
       "      <td>14.000000</td>\n",
       "      <td>8.000000</td>\n",
       "      <td>2023.00000</td>\n",
       "      <td>62.205000</td>\n",
       "    </tr>\n",
       "    <tr>\n",
       "      <th>75%</th>\n",
       "      <td>10333.500000</td>\n",
       "      <td>43.000000</td>\n",
       "      <td>100.000000</td>\n",
       "      <td>9.000000</td>\n",
       "      <td>4508.000000</td>\n",
       "      <td>4.000000</td>\n",
       "      <td>21.000000</td>\n",
       "      <td>11.000000</td>\n",
       "      <td>2023.00000</td>\n",
       "      <td>65.000000</td>\n",
       "    </tr>\n",
       "    <tr>\n",
       "      <th>max</th>\n",
       "      <td>10425.000000</td>\n",
       "      <td>97.000000</td>\n",
       "      <td>100.000000</td>\n",
       "      <td>18.000000</td>\n",
       "      <td>14082.800000</td>\n",
       "      <td>4.000000</td>\n",
       "      <td>31.000000</td>\n",
       "      <td>12.000000</td>\n",
       "      <td>2024.00000</td>\n",
       "      <td>65.000000</td>\n",
       "    </tr>\n",
       "  </tbody>\n",
       "</table>\n",
       "</div>"
      ],
      "text/plain": [
       "        OrderNumber  QuantityOrdered    PriceEach  OrderLineNumber  \\\n",
       "count   2823.000000      2823.000000  2823.000000      2823.000000   \n",
       "mean   10258.725115        35.092809    83.658544         6.466171   \n",
       "std       92.085478         9.741443    20.174277         4.225841   \n",
       "min    10100.000000         6.000000    26.880000         1.000000   \n",
       "25%    10180.000000        27.000000    68.860000         3.000000   \n",
       "50%    10262.000000        35.000000    95.700000         6.000000   \n",
       "75%    10333.500000        43.000000   100.000000         9.000000   \n",
       "max    10425.000000        97.000000   100.000000        18.000000   \n",
       "\n",
       "              Sales       QTR_ID       DAY_ID     MONTH_ID     YEAR_ID  \\\n",
       "count   2823.000000  2823.000000  2823.000000  2823.000000  2823.00000   \n",
       "mean    3553.889072     2.717676    14.291534     7.092455  2022.81509   \n",
       "std     1841.865106     1.203878     8.777409     3.656633     0.69967   \n",
       "min      482.130000     1.000000     1.000000     1.000000  2022.00000   \n",
       "25%     2203.430000     2.000000     6.000000     4.000000  2022.00000   \n",
       "50%     3184.800000     3.000000    14.000000     8.000000  2023.00000   \n",
       "75%     4508.000000     4.000000    21.000000    11.000000  2023.00000   \n",
       "max    14082.800000     4.000000    31.000000    12.000000  2024.00000   \n",
       "\n",
       "         CostPrice  \n",
       "count  2823.000000  \n",
       "mean     54.378054  \n",
       "std      13.113280  \n",
       "min      17.472000  \n",
       "25%      44.759000  \n",
       "50%      62.205000  \n",
       "75%      65.000000  \n",
       "max      65.000000  "
      ]
     },
     "metadata": {},
     "output_type": "display_data"
    },
    {
     "name": "stdout",
     "output_type": "stream",
     "text": [
      "Product Table\n"
     ]
    },
    {
     "data": {
      "text/html": [
       "<div>\n",
       "<style scoped>\n",
       "    .dataframe tbody tr th:only-of-type {\n",
       "        vertical-align: middle;\n",
       "    }\n",
       "\n",
       "    .dataframe tbody tr th {\n",
       "        vertical-align: top;\n",
       "    }\n",
       "\n",
       "    .dataframe thead th {\n",
       "        text-align: right;\n",
       "    }\n",
       "</style>\n",
       "<table border=\"1\" class=\"dataframe\">\n",
       "  <thead>\n",
       "    <tr style=\"text-align: right;\">\n",
       "      <th></th>\n",
       "      <th>MSRP</th>\n",
       "    </tr>\n",
       "  </thead>\n",
       "  <tbody>\n",
       "    <tr>\n",
       "      <th>count</th>\n",
       "      <td>109.000000</td>\n",
       "    </tr>\n",
       "    <tr>\n",
       "      <th>mean</th>\n",
       "      <td>99.899083</td>\n",
       "    </tr>\n",
       "    <tr>\n",
       "      <th>std</th>\n",
       "      <td>39.824603</td>\n",
       "    </tr>\n",
       "    <tr>\n",
       "      <th>min</th>\n",
       "      <td>33.000000</td>\n",
       "    </tr>\n",
       "    <tr>\n",
       "      <th>25%</th>\n",
       "      <td>68.000000</td>\n",
       "    </tr>\n",
       "    <tr>\n",
       "      <th>50%</th>\n",
       "      <td>97.000000</td>\n",
       "    </tr>\n",
       "    <tr>\n",
       "      <th>75%</th>\n",
       "      <td>122.000000</td>\n",
       "    </tr>\n",
       "    <tr>\n",
       "      <th>max</th>\n",
       "      <td>214.000000</td>\n",
       "    </tr>\n",
       "  </tbody>\n",
       "</table>\n",
       "</div>"
      ],
      "text/plain": [
       "             MSRP\n",
       "count  109.000000\n",
       "mean    99.899083\n",
       "std     39.824603\n",
       "min     33.000000\n",
       "25%     68.000000\n",
       "50%     97.000000\n",
       "75%    122.000000\n",
       "max    214.000000"
      ]
     },
     "metadata": {},
     "output_type": "display_data"
    }
   ],
   "source": [
    "# Summary of statistics for numeric values. \n",
    "\n",
    "print(\"Main Table\")\n",
    "display(main_df.describe())\n",
    "\n",
    "print(\"Product Table\")\n",
    "display(product_df.describe())"
   ]
  },
  {
   "cell_type": "markdown",
   "metadata": {},
   "source": [
    "## Data Cleaning"
   ]
  },
  {
   "cell_type": "code",
   "execution_count": 23,
   "metadata": {},
   "outputs": [
    {
     "name": "stdout",
     "output_type": "stream",
     "text": [
      "ProductLine    0\n",
      "ProductCode    0\n",
      "MSRP           0\n",
      "dtype: int64\n",
      "OrderNumber            0\n",
      "QuantityOrdered        0\n",
      "PriceEach              0\n",
      "OrderLineNumber        0\n",
      "Sales                  0\n",
      "Status                 0\n",
      "QTR_ID                 0\n",
      "DAY_ID                 0\n",
      "MONTH_ID               0\n",
      "YEAR_ID                0\n",
      "ProductCode            0\n",
      "CustomerName           0\n",
      "Phone                  0\n",
      "AddressLine1           0\n",
      "City                   0\n",
      "PostalCode            76\n",
      "Country                0\n",
      "Territory           1074\n",
      "ContactLastName        0\n",
      "ContactFirstName       0\n",
      "Branch                 0\n",
      "CostPrice              0\n",
      "dtype: int64\n"
     ]
    }
   ],
   "source": [
    "# Check for missing values. \n",
    "\n",
    "# Product dataframe\n",
    "print(product_df.isna().sum())\n",
    "\n",
    "# Main Dataframe\n",
    "print(main_df.isnull().sum())"
   ]
  },
  {
   "cell_type": "code",
   "execution_count": null,
   "metadata": {},
   "outputs": [],
   "source": [
    "# Check the nature of the territory values\n"
   ]
  },
  {
   "cell_type": "code",
   "execution_count": null,
   "metadata": {},
   "outputs": [],
   "source": [
    "# Check for duplicates"
   ]
  },
  {
   "cell_type": "code",
   "execution_count": null,
   "metadata": {},
   "outputs": [],
   "source": []
  },
  {
   "cell_type": "markdown",
   "metadata": {},
   "source": [
    "## Exploratory Data Analysis"
   ]
  },
  {
   "cell_type": "markdown",
   "metadata": {},
   "source": [
    "## 1. Overall Performance"
   ]
  },
  {
   "cell_type": "markdown",
   "metadata": {},
   "source": [
    "### Sales Over Time(per year)"
   ]
  },
  {
   "cell_type": "code",
   "execution_count": null,
   "metadata": {},
   "outputs": [],
   "source": []
  },
  {
   "cell_type": "markdown",
   "metadata": {},
   "source": [
    "## Sales per Customer. \n",
    "\n",
    "This is a bar graph showing the total sales per customer. \n",
    "\n",
    "Draw a table of the territory that each client is located in. "
   ]
  },
  {
   "cell_type": "code",
   "execution_count": null,
   "metadata": {},
   "outputs": [],
   "source": []
  },
  {
   "cell_type": "markdown",
   "metadata": {},
   "source": [
    "### Sales per Country \n",
    "\n",
    "Draw out a list of countries against sales"
   ]
  },
  {
   "cell_type": "code",
   "execution_count": null,
   "metadata": {},
   "outputs": [],
   "source": []
  },
  {
   "cell_type": "markdown",
   "metadata": {},
   "source": [
    "### Sales per city\n",
    "\n",
    "Draw out a list of countries against sales"
   ]
  },
  {
   "cell_type": "code",
   "execution_count": null,
   "metadata": {},
   "outputs": [],
   "source": []
  },
  {
   "cell_type": "markdown",
   "metadata": {},
   "source": [
    "### Sales per product line \n",
    "\n",
    "This is to determine the top performing product lines."
   ]
  },
  {
   "cell_type": "code",
   "execution_count": null,
   "metadata": {},
   "outputs": [],
   "source": []
  },
  {
   "cell_type": "markdown",
   "metadata": {},
   "source": [
    "### Sales per product category for top performing product lines"
   ]
  },
  {
   "cell_type": "code",
   "execution_count": null,
   "metadata": {},
   "outputs": [],
   "source": []
  },
  {
   "cell_type": "markdown",
   "metadata": {},
   "source": [
    "### Top performing products for the top product categories. \n"
   ]
  },
  {
   "cell_type": "code",
   "execution_count": null,
   "metadata": {},
   "outputs": [],
   "source": []
  },
  {
   "cell_type": "markdown",
   "metadata": {},
   "source": [
    "## 2. Customers"
   ]
  },
  {
   "cell_type": "markdown",
   "metadata": {},
   "source": [
    "### Bar graph showing top customers"
   ]
  },
  {
   "cell_type": "code",
   "execution_count": null,
   "metadata": {},
   "outputs": [],
   "source": []
  },
  {
   "cell_type": "markdown",
   "metadata": {},
   "source": [
    "### For top customers : Table of Sales for top product lines.\n",
    "\n",
    "This will help in customer targeting. "
   ]
  },
  {
   "cell_type": "code",
   "execution_count": null,
   "metadata": {},
   "outputs": [],
   "source": []
  },
  {
   "cell_type": "markdown",
   "metadata": {},
   "source": [
    "### Top products in customers top product line "
   ]
  },
  {
   "cell_type": "code",
   "execution_count": null,
   "metadata": {},
   "outputs": [],
   "source": []
  },
  {
   "cell_type": "markdown",
   "metadata": {},
   "source": [
    "## 3. Product diversity"
   ]
  },
  {
   "cell_type": "markdown",
   "metadata": {},
   "source": [
    "### Top selling products lines for the top countries "
   ]
  },
  {
   "cell_type": "code",
   "execution_count": null,
   "metadata": {},
   "outputs": [],
   "source": []
  },
  {
   "cell_type": "markdown",
   "metadata": {},
   "source": [
    "### Top selling product lines in top countries"
   ]
  },
  {
   "cell_type": "code",
   "execution_count": null,
   "metadata": {},
   "outputs": [],
   "source": []
  },
  {
   "cell_type": "markdown",
   "metadata": {},
   "source": [
    "### Top Selling products in top selling product lines for top countries\n",
    "\n",
    "\n",
    "NB - We could also convert it to top cities."
   ]
  }
 ],
 "metadata": {
  "kernelspec": {
   "display_name": "Python 3",
   "language": "python",
   "name": "python3"
  },
  "language_info": {
   "codemirror_mode": {
    "name": "ipython",
    "version": 3
   },
   "file_extension": ".py",
   "mimetype": "text/x-python",
   "name": "python",
   "nbconvert_exporter": "python",
   "pygments_lexer": "ipython3",
   "version": "3.11.9"
  }
 },
 "nbformat": 4,
 "nbformat_minor": 2
}
